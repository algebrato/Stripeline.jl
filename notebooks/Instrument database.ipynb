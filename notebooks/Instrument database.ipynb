{
 "cells": [
  {
   "cell_type": "code",
   "execution_count": 1,
   "metadata": {
    "collapsed": true
   },
   "outputs": [],
   "source": [
    "import YAML"
   ]
  },
  {
   "cell_type": "code",
   "execution_count": 2,
   "metadata": {},
   "outputs": [
    {
     "data": {
      "text/plain": [
       "parsefpdict (generic function with 1 method)"
      ]
     },
     "execution_count": 2,
     "metadata": {},
     "output_type": "execute_result"
    }
   ],
   "source": [
    "struct Horn\n",
    "    name::String\n",
    "    id::Int\n",
    "    polid::String\n",
    "    moduleid::Int\n",
    "    color::String\n",
    "    orientation::Array{Float64, 1}\n",
    "    fwhm_x_deg::Float64\n",
    "    fwhm_y_deg::Float64\n",
    "    main_spillover::Float64\n",
    "    sub_spillover::Float64\n",
    "    xpd_db::Float64\n",
    "    directivity_dbi::Float64\n",
    "    ellipticity::Float64\n",
    "end\n",
    "\n",
    "function parsefpdict(fpdict::Dict{Any, Any})\n",
    "    focalplane = Dict{String, Horn}()\n",
    "    for (key, value) in fpdict[\"horns\"]\n",
    "        refhorn = if haskey(fpdict[\"pairs\"], key)\n",
    "            refhornname = fpdict[\"pairs\"][key]\n",
    "            fpdict[\"horns\"][refhornname]\n",
    "        else\n",
    "            value\n",
    "        end\n",
    "        \n",
    "        focalplane[key] = Horn(key,\n",
    "                               value[\"id\"],\n",
    "                               value[\"polarimeter_id\"],\n",
    "                               value[\"module_id\"],\n",
    "                               value[\"color\"],\n",
    "                               value[\"orientation\"],\n",
    "                               refhorn[\"fwhm_x_deg\"],\n",
    "                               refhorn[\"fwhm_y_deg\"],\n",
    "                               refhorn[\"main_spillover\"],\n",
    "                               refhorn[\"sub_spillover\"],\n",
    "                               refhorn[\"xpd_db\"],\n",
    "                               refhorn[\"directivity_dbi\"],\n",
    "                               refhorn[\"ellipticity\"])\n",
    "    end\n",
    "    \n",
    "    focalplane\n",
    "end"
   ]
  },
  {
   "cell_type": "code",
   "execution_count": 3,
   "metadata": {},
   "outputs": [
    {
     "data": {
      "text/plain": [
       "parsedetdict (generic function with 1 method)"
      ]
     },
     "execution_count": 3,
     "metadata": {},
     "output_type": "execute_result"
    }
   ],
   "source": [
    "struct Detector\n",
    "    id::Int\n",
    "    name::String\n",
    "    center_frequency_hz::Float64\n",
    "    bandwidth_hz::Float64\n",
    "    alpha_i::Float64\n",
    "    alpha_q::Float64\n",
    "    alpha_u::Float64\n",
    "    fknee_q_hz::Float64\n",
    "    fknee_u_hz::Float64\n",
    "    wn_q_k2_hz::Float64\n",
    "    wn_u_k2_hz::Float64\n",
    "end\n",
    "\n",
    "struct InstrumentDB\n",
    "    focalplane::Dict{String, Horn}\n",
    "    detectors::Dict{Int, Detector}\n",
    "end\n",
    "\n",
    "function parsedetdict(detdict::Dict{Any, Any})\n",
    "    detectors = Dict{Int, Detector}()\n",
    "    for curdet in detdict[\"polarimeters\"]\n",
    "        id = curdet[\"id\"]\n",
    "        detectors[id] = Detector(id,\n",
    "                                 curdet[\"name\"],\n",
    "                                 get(curdet, \"center_frequency_hz\", 0.0),\n",
    "                                 get(curdet, \"bandwidth_hz\", 0.0),\n",
    "                                 get(curdet, \"alpha_i\", 0.0),\n",
    "                                 get(curdet, \"alpha_q\", 0.0),\n",
    "                                 get(curdet, \"alpha_u\", 0.0),\n",
    "                                 get(curdet, \"fknee_q_hz\", 0.0),\n",
    "                                 get(curdet, \"fknee_u_hz\", 0.0),\n",
    "                                 get(curdet, \"wn_q_k2_hz\", 0.0),\n",
    "                                 get(curdet, \"wn_q_k2_hz\", 0.0))\n",
    "    end\n",
    "    \n",
    "    detectors\n",
    "end"
   ]
  },
  {
   "cell_type": "code",
   "execution_count": 4,
   "metadata": {},
   "outputs": [
    {
     "data": {
      "text/plain": [
       "InstrumentDB"
      ]
     },
     "execution_count": 4,
     "metadata": {},
     "output_type": "execute_result"
    }
   ],
   "source": [
    "function InstrumentDB(dbpath)\n",
    "    focalplanedict = open(joinpath(dbpath, \"strip_focal_plane.yaml\")) do f\n",
    "        YAML.load(f)\n",
    "    end\n",
    "    \n",
    "    detectordict = open(joinpath(dbpath, \"strip_detectors.yaml\")) do f\n",
    "        YAML.load(f)\n",
    "    end\n",
    "    \n",
    "    InstrumentDB(parsefpdict(focalplanedict), parsedetdict(detectordict))\n",
    "end"
   ]
  },
  {
   "cell_type": "code",
   "execution_count": 6,
   "metadata": {},
   "outputs": [
    {
     "data": {
      "text/plain": [
       "InstrumentDB(Dict(\"I5\"=>Horn(\"I5\", 5, \"STRIP00\", 5, \"indigo\", [-0.0107767, 0.0187696, 0.999766], 0.347, 0.345, 0.017151, 0.013704, 43.93, 54.75, 1.006),\"O1\"=>Horn(\"O1\", 15, \"STRIP00\", 1, \"orange\", [-0.0099489, -0.0861267, 0.996235], 0.347, 0.349, 0.017318, 0.013305, 42.17, 54.69, 1.006),\"V3\"=>Horn(\"V3\", 31, \"STRIP00\", 3, \"violet\", [0.0809495, 0.0335947, 0.996152], 0.355, 0.343, 0.01646, 0.013881, 40.85, 54.66, 1.034),\"G4\"=>Horn(\"G4\", 46, \"STRIP00\", 4, \"green\", [-0.0468401, 0.0524999, 0.997522], 0.348, 0.346, 0.017683, 0.013402, 41.45, 54.71, 1.004),\"I4\"=>Horn(\"I4\", 4, \"STRIP00\", 4, \"indigo\", [0.010898, 0.0187675, 0.999764], 0.348, 0.345, 0.016905, 0.01397, 44.19, 54.74, 1.009),\"O4\"=>Horn(\"O4\", 18, \"STRIP00\", 4, \"orange\", [0.0111748, -0.048671, 0.998752], 0.348, 0.346, 0.017042, 0.014065, 42.97, 54.72, 1.007),\"R5\"=>Horn(\"R5\", 26, \"STRIP00\", 5, \"red\", [0.0477568, -0.0149849, 0.998747], 0.351, 0.344, 0.016735, 0.014259, 41.98, 54.71, 1.02),\"V1\"=>Horn(\"V1\", 29, \"STRIP00\", 1, \"violet\", [0.0477568, 0.0149849, 0.998747], 0.351, 0.344, 0.016735, 0.014259, 41.98, 54.71, 1.02),\"G2\"=>Horn(\"G2\", 44, \"STRIP00\", 2, \"green\", [-0.0471283, 0.0149961, 0.998776], 0.348, 0.345, 0.017715, 0.013652, 41.98, 54.73, 1.008),\"Y0\"=>Horn(\"Y0\", 7, \"STRIP00\", 0, \"yellow\", [-0.057824, -0.0336952, 0.997758], 0.348, 0.345, 0.017513, 0.013383, 41.47, 54.73, 1.009)…), Dict(2=>Detector(2, \"STRIP02\", 4.335e10, 7.15e9, 0.0, 0.0, 0.0, 0.0, 0.0, 0.0, 0.0),11=>Detector(11, \"STRIP11\", 0.0, 0.0, 0.0, 0.0, 0.0, 0.0, 0.0, 0.0, 0.0),39=>Detector(39, \"STRIP39\", 0.0, 0.0, 0.0, 0.0, 0.0, 0.0, 0.0, 0.0, 0.0),46=>Detector(46, \"STRIP46\", 0.0, 0.0, 0.0, 0.0, 0.0, 0.0, 0.0, 0.0, 0.0),25=>Detector(25, \"STRIP25\", 0.0, 0.0, 0.0, 0.0, 0.0, 0.0, 0.0, 0.0, 0.0),55=>Detector(55, \"STRIP55\", 0.0, 0.0, 0.0, 0.0, 0.0, 0.0, 0.0, 0.0, 0.0),42=>Detector(42, \"STRIP42\", 0.0, 0.0, 0.0, 0.0, 0.0, 0.0, 0.0, 0.0, 0.0),29=>Detector(29, \"STRIP29\", 0.0, 0.0, 0.0, 0.0, 0.0, 0.0, 0.0, 0.0, 0.0),58=>Detector(58, \"STRIP58\", 0.0, 0.0, 1.11725, 1.181, 0.475, 0.148, 0.053, 9.3e-7, 9.3e-7),59=>Detector(59, \"STRIP59\", 0.0, 0.0, 0.0, 0.0, 0.0, 0.0, 0.0, 0.0, 0.0)…))"
      ]
     },
     "execution_count": 6,
     "metadata": {},
     "output_type": "execute_result"
    }
   ],
   "source": [
    "InstrumentDB(raw\"..\\stripeline\\instrument\")"
   ]
  },
  {
   "cell_type": "code",
   "execution_count": null,
   "metadata": {
    "collapsed": true
   },
   "outputs": [],
   "source": []
  }
 ],
 "metadata": {
  "kernelspec": {
   "display_name": "Julia 0.6.2",
   "language": "julia",
   "name": "julia-0.6"
  },
  "language_info": {
   "file_extension": ".jl",
   "mimetype": "application/julia",
   "name": "julia",
   "version": "0.6.2"
  }
 },
 "nbformat": 4,
 "nbformat_minor": 2
}
